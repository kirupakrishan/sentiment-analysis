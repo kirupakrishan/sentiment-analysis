{
 "cells": [
  {
   "cell_type": "code",
   "execution_count": 1,
   "id": "dd03dade",
   "metadata": {
    "_cell_guid": "b1076dfc-b9ad-4769-8c92-a6c4dae69d19",
    "_uuid": "8f2839f25d086af736a60e9eeb907d3b93b6e0e5",
    "execution": {
     "iopub.execute_input": "2023-08-08T07:44:19.012275Z",
     "iopub.status.busy": "2023-08-08T07:44:19.011699Z",
     "iopub.status.idle": "2023-08-08T07:44:20.682397Z",
     "shell.execute_reply": "2023-08-08T07:44:20.680957Z"
    },
    "id": "VyX5qQ3-bo1f",
    "papermill": {
     "duration": 1.68219,
     "end_time": "2023-08-08T07:44:20.685473",
     "exception": false,
     "start_time": "2023-08-08T07:44:19.003283",
     "status": "completed"
    },
    "tags": []
   },
   "outputs": [
    {
     "name": "stdout",
     "output_type": "stream",
     "text": [
      "/kaggle/input/sentiment-prediction-on-movie-reviews/movies.csv\n",
      "/kaggle/input/sentiment-prediction-on-movie-reviews/sample.csv\n",
      "/kaggle/input/sentiment-prediction-on-movie-reviews/train.csv\n",
      "/kaggle/input/sentiment-prediction-on-movie-reviews/test.csv\n"
     ]
    }
   ],
   "source": [
    "# This Python 3 environment comes with many helpful analytics libraries installed\n",
    "# It is defined by the kaggle/python Docker image: https://github.com/kaggle/docker-python\n",
    "# For example, here's several helpful packages to load\n",
    "\n",
    "import numpy as np # linear algebra\n",
    "import pandas as pd # data processing, CSV file I/O (e.g. pd.read_csv)\n",
    "import matplotlib.pyplot as plt\n",
    "import seaborn as sns\n",
    "\n",
    "# Input data files are available in the read-only \"../input/\" directory\n",
    "# For example, running this (by clicking run or pressing Shift+Enter) will list all files under the input directory\n",
    "\n",
    "import os\n",
    "for dirname, _, filenames in os.walk('/kaggle/input'):\n",
    "    for filename in filenames:\n",
    "        print(os.path.join(dirname, filename))\n",
    "\n",
    "# You can write up to 20GB to the current directory (/kaggle/working/) that gets preserved as output when you create a version using \"Save & Run All\"\n",
    "# You can also write temporary files to /kaggle/temp/, but they won't be saved outside of the current session"
   ]
  },
  {
   "cell_type": "code",
   "execution_count": 2,
   "id": "42fbadb2",
   "metadata": {
    "execution": {
     "iopub.execute_input": "2023-08-08T07:44:20.699598Z",
     "iopub.status.busy": "2023-08-08T07:44:20.699125Z",
     "iopub.status.idle": "2023-08-08T07:44:22.039323Z",
     "shell.execute_reply": "2023-08-08T07:44:22.038005Z"
    },
    "id": "4rmacpunbo1g",
    "papermill": {
     "duration": 1.350821,
     "end_time": "2023-08-08T07:44:22.042152",
     "exception": false,
     "start_time": "2023-08-08T07:44:20.691331",
     "status": "completed"
    },
    "tags": []
   },
   "outputs": [],
   "source": [
    "train_data = pd.read_csv(\"/kaggle/input/sentiment-prediction-on-movie-reviews/train.csv\")\n",
    "test_data = pd.read_csv(\"/kaggle/input/sentiment-prediction-on-movie-reviews/test.csv\")"
   ]
  },
  {
   "cell_type": "code",
   "execution_count": 3,
   "id": "3bb44dd5",
   "metadata": {
    "execution": {
     "iopub.execute_input": "2023-08-08T07:44:22.055282Z",
     "iopub.status.busy": "2023-08-08T07:44:22.054648Z",
     "iopub.status.idle": "2023-08-08T07:44:22.264662Z",
     "shell.execute_reply": "2023-08-08T07:44:22.263655Z"
    },
    "papermill": {
     "duration": 0.221185,
     "end_time": "2023-08-08T07:44:22.268926",
     "exception": false,
     "start_time": "2023-08-08T07:44:22.047741",
     "status": "completed"
    },
    "tags": []
   },
   "outputs": [
    {
     "name": "stdout",
     "output_type": "stream",
     "text": [
      "(55315, 4) (162758, 5)\n"
     ]
    },
    {
     "data": {
      "text/plain": [
       "movieid               0\n",
       "reviewerName          0\n",
       "isFrequentReviewer    0\n",
       "reviewText            0\n",
       "sentiment             0\n",
       "dtype: int64"
      ]
     },
     "execution_count": 3,
     "metadata": {},
     "output_type": "execute_result"
    }
   ],
   "source": [
    "train_data.loc[train_data['reviewText'].isnull() & (train_data['sentiment'] == 'POSITIVE'), 'reviewText'] = 'good'\n",
    "train_data.loc[train_data['reviewText'].isnull() & (train_data['sentiment'] == 'NEGATIVE'), 'reviewText'] = 'bad'\n",
    "test_data.reviewText.fillna(\"\",inplace=True)\n",
    "print(test_data.shape,train_data.shape)\n",
    "train_data.isna().sum()"
   ]
  },
  {
   "cell_type": "code",
   "execution_count": 4,
   "id": "439749ac",
   "metadata": {
    "execution": {
     "iopub.execute_input": "2023-08-08T07:44:22.288249Z",
     "iopub.status.busy": "2023-08-08T07:44:22.287401Z",
     "iopub.status.idle": "2023-08-08T07:44:22.322976Z",
     "shell.execute_reply": "2023-08-08T07:44:22.321259Z"
    },
    "id": "HAf8a_fWbo1h",
    "outputId": "300ce5ff-6c93-4259-9d2e-d27bd6555efd",
    "papermill": {
     "duration": 0.049692,
     "end_time": "2023-08-08T07:44:22.327173",
     "exception": false,
     "start_time": "2023-08-08T07:44:22.277481",
     "status": "completed"
    },
    "tags": []
   },
   "outputs": [
    {
     "data": {
      "text/html": [
       "<div>\n",
       "<style scoped>\n",
       "    .dataframe tbody tr th:only-of-type {\n",
       "        vertical-align: middle;\n",
       "    }\n",
       "\n",
       "    .dataframe tbody tr th {\n",
       "        vertical-align: top;\n",
       "    }\n",
       "\n",
       "    .dataframe thead th {\n",
       "        text-align: right;\n",
       "    }\n",
       "</style>\n",
       "<table border=\"1\" class=\"dataframe\">\n",
       "  <thead>\n",
       "    <tr style=\"text-align: right;\">\n",
       "      <th></th>\n",
       "      <th>movieid</th>\n",
       "      <th>reviewerName</th>\n",
       "      <th>isFrequentReviewer</th>\n",
       "      <th>reviewText</th>\n",
       "      <th>sentiment</th>\n",
       "    </tr>\n",
       "  </thead>\n",
       "  <tbody>\n",
       "    <tr>\n",
       "      <th>0</th>\n",
       "      <td>marvelous_pirate</td>\n",
       "      <td>Benjamin Henry</td>\n",
       "      <td>False</td>\n",
       "      <td>Henry Selick’s first movie since 2009’s Corali...</td>\n",
       "      <td>POSITIVE</td>\n",
       "    </tr>\n",
       "    <tr>\n",
       "      <th>1</th>\n",
       "      <td>tony_montana_frodo_baggins_v_rocky_balboa</td>\n",
       "      <td>Felicia Lopez</td>\n",
       "      <td>False</td>\n",
       "      <td>With a cast that reads like the Vogue Oscar pa...</td>\n",
       "      <td>NEGATIVE</td>\n",
       "    </tr>\n",
       "    <tr>\n",
       "      <th>2</th>\n",
       "      <td>darth_vader_katniss_everdeen_sorcerer_donnie_d...</td>\n",
       "      <td>Mr. Charles Burgess</td>\n",
       "      <td>True</td>\n",
       "      <td>Creed II does not give us anything but another...</td>\n",
       "      <td>POSITIVE</td>\n",
       "    </tr>\n",
       "    <tr>\n",
       "      <th>3</th>\n",
       "      <td>lara_croft_glimmer</td>\n",
       "      <td>Ryan Barrett</td>\n",
       "      <td>False</td>\n",
       "      <td>I know what you're thinking, but this is no Li...</td>\n",
       "      <td>POSITIVE</td>\n",
       "    </tr>\n",
       "    <tr>\n",
       "      <th>4</th>\n",
       "      <td>jason_bourne_surreal_the_terminator_indiana_jones</td>\n",
       "      <td>Alexander Glover</td>\n",
       "      <td>False</td>\n",
       "      <td>Director Fernando Meirelles tells the story wi...</td>\n",
       "      <td>POSITIVE</td>\n",
       "    </tr>\n",
       "  </tbody>\n",
       "</table>\n",
       "</div>"
      ],
      "text/plain": [
       "                                             movieid         reviewerName  \\\n",
       "0                                   marvelous_pirate       Benjamin Henry   \n",
       "1          tony_montana_frodo_baggins_v_rocky_balboa        Felicia Lopez   \n",
       "2  darth_vader_katniss_everdeen_sorcerer_donnie_d...  Mr. Charles Burgess   \n",
       "3                                 lara_croft_glimmer         Ryan Barrett   \n",
       "4  jason_bourne_surreal_the_terminator_indiana_jones     Alexander Glover   \n",
       "\n",
       "   isFrequentReviewer                                         reviewText  \\\n",
       "0               False  Henry Selick’s first movie since 2009’s Corali...   \n",
       "1               False  With a cast that reads like the Vogue Oscar pa...   \n",
       "2                True  Creed II does not give us anything but another...   \n",
       "3               False  I know what you're thinking, but this is no Li...   \n",
       "4               False  Director Fernando Meirelles tells the story wi...   \n",
       "\n",
       "  sentiment  \n",
       "0  POSITIVE  \n",
       "1  NEGATIVE  \n",
       "2  POSITIVE  \n",
       "3  POSITIVE  \n",
       "4  POSITIVE  "
      ]
     },
     "execution_count": 4,
     "metadata": {},
     "output_type": "execute_result"
    }
   ],
   "source": [
    "train_data.head()"
   ]
  },
  {
   "cell_type": "code",
   "execution_count": 5,
   "id": "9e898e26",
   "metadata": {
    "execution": {
     "iopub.execute_input": "2023-08-08T07:44:22.344307Z",
     "iopub.status.busy": "2023-08-08T07:44:22.343832Z",
     "iopub.status.idle": "2023-08-08T07:44:22.357009Z",
     "shell.execute_reply": "2023-08-08T07:44:22.355725Z"
    },
    "papermill": {
     "duration": 0.025621,
     "end_time": "2023-08-08T07:44:22.359700",
     "exception": false,
     "start_time": "2023-08-08T07:44:22.334079",
     "status": "completed"
    },
    "tags": []
   },
   "outputs": [
    {
     "data": {
      "text/html": [
       "<div>\n",
       "<style scoped>\n",
       "    .dataframe tbody tr th:only-of-type {\n",
       "        vertical-align: middle;\n",
       "    }\n",
       "\n",
       "    .dataframe tbody tr th {\n",
       "        vertical-align: top;\n",
       "    }\n",
       "\n",
       "    .dataframe thead th {\n",
       "        text-align: right;\n",
       "    }\n",
       "</style>\n",
       "<table border=\"1\" class=\"dataframe\">\n",
       "  <thead>\n",
       "    <tr style=\"text-align: right;\">\n",
       "      <th></th>\n",
       "      <th>movieid</th>\n",
       "      <th>reviewerName</th>\n",
       "      <th>isTopCritic</th>\n",
       "      <th>reviewText</th>\n",
       "    </tr>\n",
       "  </thead>\n",
       "  <tbody>\n",
       "    <tr>\n",
       "      <th>0</th>\n",
       "      <td>legend_marty_mcfly_oracle</td>\n",
       "      <td>John Kim</td>\n",
       "      <td>False</td>\n",
       "      <td>Green slowly cranks up the dread with style an...</td>\n",
       "    </tr>\n",
       "    <tr>\n",
       "      <th>1</th>\n",
       "      <td>terminator_katniss_everdeen_glimmer</td>\n",
       "      <td>Brian Chaney</td>\n",
       "      <td>False</td>\n",
       "      <td>Philip Noyce's direction is elegant and unforc...</td>\n",
       "    </tr>\n",
       "    <tr>\n",
       "      <th>2</th>\n",
       "      <td>james_bond_labyrinth_gollum</td>\n",
       "      <td>Danielle Parker</td>\n",
       "      <td>False</td>\n",
       "      <td>It wouldn't do to say what path Maria ultimate...</td>\n",
       "    </tr>\n",
       "    <tr>\n",
       "      <th>3</th>\n",
       "      <td>v_quest_han_solo_wondrous</td>\n",
       "      <td>Brittany Lane</td>\n",
       "      <td>False</td>\n",
       "      <td>Pig is not exactly the arthouse John Wick that...</td>\n",
       "    </tr>\n",
       "    <tr>\n",
       "      <th>4</th>\n",
       "      <td>enigma_hulk_surreal_starlight</td>\n",
       "      <td>Justin Willis</td>\n",
       "      <td>False</td>\n",
       "      <td>An imaginative no-budget musical of sorts abou...</td>\n",
       "    </tr>\n",
       "  </tbody>\n",
       "</table>\n",
       "</div>"
      ],
      "text/plain": [
       "                               movieid     reviewerName  isTopCritic  \\\n",
       "0            legend_marty_mcfly_oracle         John Kim        False   \n",
       "1  terminator_katniss_everdeen_glimmer     Brian Chaney        False   \n",
       "2          james_bond_labyrinth_gollum  Danielle Parker        False   \n",
       "3            v_quest_han_solo_wondrous    Brittany Lane        False   \n",
       "4        enigma_hulk_surreal_starlight    Justin Willis        False   \n",
       "\n",
       "                                          reviewText  \n",
       "0  Green slowly cranks up the dread with style an...  \n",
       "1  Philip Noyce's direction is elegant and unforc...  \n",
       "2  It wouldn't do to say what path Maria ultimate...  \n",
       "3  Pig is not exactly the arthouse John Wick that...  \n",
       "4  An imaginative no-budget musical of sorts abou...  "
      ]
     },
     "execution_count": 5,
     "metadata": {},
     "output_type": "execute_result"
    }
   ],
   "source": [
    "test_data.head()"
   ]
  },
  {
   "cell_type": "code",
   "execution_count": 6,
   "id": "ab241a68",
   "metadata": {
    "execution": {
     "iopub.execute_input": "2023-08-08T07:44:22.374478Z",
     "iopub.status.busy": "2023-08-08T07:44:22.374066Z",
     "iopub.status.idle": "2023-08-08T07:44:22.647257Z",
     "shell.execute_reply": "2023-08-08T07:44:22.646063Z"
    },
    "papermill": {
     "duration": 0.283613,
     "end_time": "2023-08-08T07:44:22.649850",
     "exception": false,
     "start_time": "2023-08-08T07:44:22.366237",
     "status": "completed"
    },
    "tags": []
   },
   "outputs": [
    {
     "data": {
      "text/html": [
       "<div>\n",
       "<style scoped>\n",
       "    .dataframe tbody tr th:only-of-type {\n",
       "        vertical-align: middle;\n",
       "    }\n",
       "\n",
       "    .dataframe tbody tr th {\n",
       "        vertical-align: top;\n",
       "    }\n",
       "\n",
       "    .dataframe thead th {\n",
       "        text-align: right;\n",
       "    }\n",
       "</style>\n",
       "<table border=\"1\" class=\"dataframe\">\n",
       "  <thead>\n",
       "    <tr style=\"text-align: right;\">\n",
       "      <th></th>\n",
       "      <th>movieid</th>\n",
       "      <th>reviewerName</th>\n",
       "      <th>isFrequentReviewer</th>\n",
       "      <th>reviewText</th>\n",
       "      <th>sentiment</th>\n",
       "    </tr>\n",
       "  </thead>\n",
       "  <tbody>\n",
       "    <tr>\n",
       "      <th>count</th>\n",
       "      <td>162758</td>\n",
       "      <td>162758</td>\n",
       "      <td>162758</td>\n",
       "      <td>162758</td>\n",
       "      <td>162758</td>\n",
       "    </tr>\n",
       "    <tr>\n",
       "      <th>unique</th>\n",
       "      <td>16812</td>\n",
       "      <td>4482</td>\n",
       "      <td>2</td>\n",
       "      <td>155073</td>\n",
       "      <td>2</td>\n",
       "    </tr>\n",
       "    <tr>\n",
       "      <th>top</th>\n",
       "      <td>escape_the_terminator_tyler_durden_astonish</td>\n",
       "      <td>Sherri Morrison</td>\n",
       "      <td>False</td>\n",
       "      <td>good</td>\n",
       "      <td>POSITIVE</td>\n",
       "    </tr>\n",
       "    <tr>\n",
       "      <th>freq</th>\n",
       "      <td>708</td>\n",
       "      <td>962</td>\n",
       "      <td>113189</td>\n",
       "      <td>4042</td>\n",
       "      <td>108761</td>\n",
       "    </tr>\n",
       "  </tbody>\n",
       "</table>\n",
       "</div>"
      ],
      "text/plain": [
       "                                            movieid     reviewerName  \\\n",
       "count                                        162758           162758   \n",
       "unique                                        16812             4482   \n",
       "top     escape_the_terminator_tyler_durden_astonish  Sherri Morrison   \n",
       "freq                                            708              962   \n",
       "\n",
       "       isFrequentReviewer reviewText sentiment  \n",
       "count              162758     162758    162758  \n",
       "unique                  2     155073         2  \n",
       "top                 False       good  POSITIVE  \n",
       "freq               113189       4042    108761  "
      ]
     },
     "execution_count": 6,
     "metadata": {},
     "output_type": "execute_result"
    }
   ],
   "source": [
    "# Summary statistics\n",
    "train_data.describe()"
   ]
  },
  {
   "cell_type": "code",
   "execution_count": 7,
   "id": "d7c3f2c4",
   "metadata": {
    "execution": {
     "iopub.execute_input": "2023-08-08T07:44:22.665048Z",
     "iopub.status.busy": "2023-08-08T07:44:22.664587Z",
     "iopub.status.idle": "2023-08-08T07:44:23.024987Z",
     "shell.execute_reply": "2023-08-08T07:44:23.023609Z"
    },
    "papermill": {
     "duration": 0.371331,
     "end_time": "2023-08-08T07:44:23.028116",
     "exception": false,
     "start_time": "2023-08-08T07:44:22.656785",
     "status": "completed"
    },
    "tags": []
   },
   "outputs": [
    {
     "data": {
      "image/png": "[encoded data removed]",
      "text/plain": [
       "<Figure size 640x480 with 1 Axes>"
      ]
     },
     "metadata": {},
     "output_type": "display_data"
    }
   ],
   "source": [
    "# Distribution of sentiment labels\n",
    "sns.countplot(x='sentiment', data=train_data)\n",
    "plt.title(\"Distribution of Sentiment Labels\")\n",
    "plt.show()"
   ]
  },
  {
   "cell_type": "markdown",
   "id": "b9e682af",
   "metadata": {
    "papermill": {
     "duration": 0.006541,
     "end_time": "2023-08-08T07:44:23.042188",
     "exception": false,
     "start_time": "2023-08-08T07:44:23.035647",
     "status": "completed"
    },
    "tags": []
   },
   "source": [
    "INFERENCES : The number of Reviews that have positive reviews are almost twice than the negative reviews"
   ]
  },
  {
   "cell_type": "code",
   "execution_count": 8,
   "id": "55448266",
   "metadata": {
    "execution": {
     "iopub.execute_input": "2023-08-08T07:44:23.057612Z",
     "iopub.status.busy": "2023-08-08T07:44:23.057181Z",
     "iopub.status.idle": "2023-08-08T07:44:24.411936Z",
     "shell.execute_reply": "2023-08-08T07:44:24.410545Z"
    },
    "papermill": {
     "duration": 1.365446,
     "end_time": "2023-08-08T07:44:24.414457",
     "exception": false,
     "start_time": "2023-08-08T07:44:23.049011",
     "status": "completed"
    },
    "tags": []
   },
   "outputs": [
    {
     "data": {
      "image/png": "[encoded data removed]",
      "text/plain": [
       "<Figure size 1000x600 with 1 Axes>"
      ]
     },
     "metadata": {},
     "output_type": "display_data"
    }
   ],
   "source": [
    "# Word count distribution\n",
    "train_data['word_count'] = train_data['reviewText'].apply(lambda x: len(str(x).split()))\n",
    "plt.figure(figsize=(10, 6))\n",
    "sns.histplot(data=train_data, x='word_count', bins=30, kde=True)\n",
    "plt.title(\"Word Count Distribution\")\n",
    "plt.xlabel(\"Word Count\")\n",
    "plt.ylabel(\"Frequency\")\n",
    "plt.show()"
   ]
  },
  {
   "cell_type": "markdown",
   "id": "15e67610",
   "metadata": {
    "papermill": {
     "duration": 0.007875,
     "end_time": "2023-08-08T07:44:24.431667",
     "exception": false,
     "start_time": "2023-08-08T07:44:24.423792",
     "status": "completed"
    },
    "tags": []
   },
   "source": [
    "Inference : All the word count in every review against their frequency follow a gausian dist"
   ]
  },
  {
   "cell_type": "code",
   "execution_count": 9,
   "id": "3d42eff6",
   "metadata": {
    "execution": {
     "iopub.execute_input": "2023-08-08T07:44:24.449349Z",
     "iopub.status.busy": "2023-08-08T07:44:24.448783Z",
     "iopub.status.idle": "2023-08-08T07:44:24.476008Z",
     "shell.execute_reply": "2023-08-08T07:44:24.473722Z"
    },
    "papermill": {
     "duration": 0.039588,
     "end_time": "2023-08-08T07:44:24.479161",
     "exception": false,
     "start_time": "2023-08-08T07:44:24.439573",
     "status": "completed"
    },
    "tags": []
   },
   "outputs": [
    {
     "name": "stdout",
     "output_type": "stream",
     "text": [
      "sentiment\n",
      "NEGATIVE    20.470248\n",
      "POSITIVE    21.283521\n",
      "Name: word_count, dtype: float64\n"
     ]
    }
   ],
   "source": [
    "# Average word count per sentiment\n",
    "avg_word_count_per_sentiment = train_data.groupby('sentiment')['word_count'].mean()\n",
    "print(avg_word_count_per_sentiment)"
   ]
  },
  {
   "cell_type": "code",
   "execution_count": 10,
   "id": "9b603946",
   "metadata": {
    "execution": {
     "iopub.execute_input": "2023-08-08T07:44:24.497340Z",
     "iopub.status.busy": "2023-08-08T07:44:24.496473Z",
     "iopub.status.idle": "2023-08-08T07:44:28.360419Z",
     "shell.execute_reply": "2023-08-08T07:44:28.358761Z"
    },
    "papermill": {
     "duration": 3.876572,
     "end_time": "2023-08-08T07:44:28.363685",
     "exception": false,
     "start_time": "2023-08-08T07:44:24.487113",
     "status": "completed"
    },
    "tags": []
   },
   "outputs": [
    {
     "name": "stdout",
     "output_type": "stream",
     "text": [
      "    word  frequency\n",
      "3   film      26858\n",
      "7  movie      18222\n",
      "6   like      10955\n",
      "4   good      10758\n",
      "8  story       9411\n",
      "1     46       8624\n",
      "5   just       7332\n",
      "0     44       7079\n",
      "9   time       5775\n",
      "2   best       5361\n"
     ]
    }
   ],
   "source": [
    "# Most common words (top N words)\n",
    "from sklearn.feature_extraction.text import CountVectorizer\n",
    "cv = CountVectorizer(stop_words='english', max_features=10)\n",
    "word_matrix = cv.fit_transform(train_data['reviewText'])\n",
    "word_freq = word_matrix.sum(axis=0)\n",
    "words = cv.get_feature_names_out()\n",
    "word_freq_df = pd.DataFrame({'word': words, 'frequency': word_freq.tolist()[0]})\n",
    "word_freq_df = word_freq_df.sort_values(by='frequency', ascending=False)\n",
    "print(word_freq_df)"
   ]
  },
  {
   "cell_type": "code",
   "execution_count": 11,
   "id": "e5b790c5",
   "metadata": {
    "execution": {
     "iopub.execute_input": "2023-08-08T07:44:28.381431Z",
     "iopub.status.busy": "2023-08-08T07:44:28.380983Z",
     "iopub.status.idle": "2023-08-08T07:44:28.699727Z",
     "shell.execute_reply": "2023-08-08T07:44:28.698747Z"
    },
    "papermill": {
     "duration": 0.330452,
     "end_time": "2023-08-08T07:44:28.702122",
     "exception": false,
     "start_time": "2023-08-08T07:44:28.371670",
     "status": "completed"
    },
    "tags": []
   },
   "outputs": [
    {
     "data": {
      "image/png": "[encoded data removed]",
      "text/plain": [
       "<Figure size 640x480 with 1 Axes>"
      ]
     },
     "metadata": {},
     "output_type": "display_data"
    }
   ],
   "source": [
    "# Correlation between word count and sentiment\n",
    "sns.boxplot(x='sentiment', y='word_count', data=train_data)\n",
    "plt.title(\"Word Count vs Sentiment\")\n",
    "plt.show()"
   ]
  },
  {
   "cell_type": "markdown",
   "id": "8e6ec87b",
   "metadata": {
    "papermill": {
     "duration": 0.007862,
     "end_time": "2023-08-08T07:44:28.718442",
     "exception": false,
     "start_time": "2023-08-08T07:44:28.710580",
     "status": "completed"
    },
    "tags": []
   },
   "source": [
    "Inference : Both the Box Plots for the positive and negative sentiment have similar mean median . "
   ]
  },
  {
   "cell_type": "code",
   "execution_count": 12,
   "id": "088df9f2",
   "metadata": {
    "execution": {
     "iopub.execute_input": "2023-08-08T07:44:28.737396Z",
     "iopub.status.busy": "2023-08-08T07:44:28.736671Z",
     "iopub.status.idle": "2023-08-08T07:44:34.094778Z",
     "shell.execute_reply": "2023-08-08T07:44:34.093355Z"
    },
    "papermill": {
     "duration": 5.370938,
     "end_time": "2023-08-08T07:44:34.097677",
     "exception": false,
     "start_time": "2023-08-08T07:44:28.726739",
     "status": "completed"
    },
    "tags": []
   },
   "outputs": [],
   "source": [
    "import numpy as np\n",
    "import pandas as pd\n",
    "from sklearn.feature_extraction.text import CountVectorizer, TfidfVectorizer\n",
    "from sklearn.linear_model import LogisticRegression\n",
    "from sklearn.linear_model import SGDClassifier\n",
    "from sklearn.naive_bayes import MultinomialNB\n",
    "from sklearn.tree import DecisionTreeClassifier\n",
    "from sklearn.ensemble import RandomForestClassifier\n",
    "from sklearn.metrics import f1_score\n",
    "from sklearn.model_selection import train_test_split\n",
    "\n",
    "# Load data and preprocess as in your original code\n",
    "train_sentiment=train_data['sentiment']\n",
    "train_text=train_data['reviewText']\n",
    "test = test_data['reviewText']\n",
    "\n",
    "\n",
    "#Train Test Split only for getting score while testing . Using full train data for submission\n",
    "# Split data into training and validation sets\n",
    "# train_text, val_text, train_sentiment, val_sentiment = train_test_split(train_text, train_sentiment, test_size=0.2, random_state=42)\n",
    "\n",
    "# TF-IDF transformation\n",
    "tfidf_transformer = TfidfVectorizer(\n",
    "        sublinear_tf=True, max_df=0.5, min_df=5,analyzer='word',stop_words=\"english\")\n",
    "train_text_tfidf = tfidf_transformer.fit_transform(train_text)\n",
    "# val_text_tfidf = tfidf_transformer.transform(val_text)\n",
    "test_tfidf = tfidf_transformer.transform(test)\n"
   ]
  },
  {
   "cell_type": "code",
   "execution_count": 13,
   "id": "3cbbd2aa",
   "metadata": {
    "execution": {
     "iopub.execute_input": "2023-08-08T07:44:34.116664Z",
     "iopub.status.busy": "2023-08-08T07:44:34.116000Z",
     "iopub.status.idle": "2023-08-08T07:44:34.122818Z",
     "shell.execute_reply": "2023-08-08T07:44:34.121444Z"
    },
    "papermill": {
     "duration": 0.019174,
     "end_time": "2023-08-08T07:44:34.125318",
     "exception": false,
     "start_time": "2023-08-08T07:44:34.106144",
     "status": "completed"
    },
    "tags": []
   },
   "outputs": [],
   "source": [
    "# from sklearn.model_selection import GridSearchCV\n",
    "\n",
    "# #HPT for Logistic Regression\n",
    "# lr_params = {\n",
    "#     'C': [0.01, 0.1, 1, 10],\n",
    "#     'max_iter': [100, 500, 1000]\n",
    "# }\n",
    "\n",
    "# lr_grid_search = GridSearchCV(LogisticRegression(), param_grid=lr_params, cv=3, scoring='f1_weighted')\n",
    "# lr_grid_search.fit(train_text_tfidf, train_sentiment)\n",
    "# best_lr = lr_grid_search.best_estimator_\n",
    "\n",
    "# predicted_lr = best_lr.predict(val_text_tfidf)\n",
    "# f1_lr = f1_score(val_sentiment, predicted_lr, average='weighted')\n",
    "# print(\"Best F1 Score for Logistic Regression:\", f1_lr)\n",
    "# print(\"Best Estimator\",lr_grid_search.best_params_)\n",
    "\n",
    "# #HPT for Naive Bayes\n",
    "# nb_params = {\n",
    "#     'alpha': [0.1, 0.5, 1.0, 2.0]\n",
    "# }\n",
    "\n",
    "# nb_grid_search = GridSearchCV(MultinomialNB(), param_grid=nb_params, cv=3, scoring='f1_weighted')\n",
    "# nb_grid_search.fit(train_text_tfidf, train_sentiment)\n",
    "# best_nb = nb_grid_search.best_estimator_\n",
    "\n",
    "# predicted_nb = best_nb.predict(val_text_tfidf)\n",
    "# f1_nb = f1_score(val_sentiment, predicted_nb, average='weighted')\n",
    "# print(\"Best F1 Score for Naive Bayes:\", f1_nb)\n",
    "# print(\"Best Estimator\",nb_grid_search.best_params_)\n",
    "\n",
    "# #HPT for SGD Classifier\n",
    "# sgd_params = {\n",
    "#     'loss': ['hinge','modified_huber','squared_hinge','perceptron'],\n",
    "#     'alpha': [0.0001, 0.001, 0.01],\n",
    "#     'max_iter': [1000, 2000, 3000]\n",
    "# }\n",
    "\n",
    "# sgd_grid_search = GridSearchCV(SGDClassifier(random_state=42), param_grid=sgd_params, cv=3, scoring='f1_weighted')\n",
    "# sgd_grid_search.fit(train_text_tfidf, train_sentiment)\n",
    "# best_sgd = sgd_grid_search.best_estimator_\n",
    "\n",
    "# predicted_sgd = best_sgd.predict(val_text_tfidf)\n",
    "# f1_sgd = f1_score(val_sentiment, predicted_sgd, average='weighted')\n",
    "# print(\"Best F1 Score for SGD Classifier:\", f1_sgd)\n",
    "# print(\"Best Estimator\",sgd_grid_search.best_params_)"
   ]
  },
  {
   "cell_type": "code",
   "execution_count": 14,
   "id": "bd93632f",
   "metadata": {
    "execution": {
     "iopub.execute_input": "2023-08-08T07:44:34.143507Z",
     "iopub.status.busy": "2023-08-08T07:44:34.143097Z",
     "iopub.status.idle": "2023-08-08T07:44:41.962622Z",
     "shell.execute_reply": "2023-08-08T07:44:41.961425Z"
    },
    "papermill": {
     "duration": 7.83162,
     "end_time": "2023-08-08T07:44:41.965089",
     "exception": false,
     "start_time": "2023-08-08T07:44:34.133469",
     "status": "completed"
    },
    "tags": []
   },
   "outputs": [
    {
     "name": "stderr",
     "output_type": "stream",
     "text": [
      "/opt/conda/lib/python3.10/site-packages/sklearn/linear_model/_logistic.py:458: ConvergenceWarning: lbfgs failed to converge (status=1):\n",
      "STOP: TOTAL NO. of ITERATIONS REACHED LIMIT.\n",
      "\n",
      "Increase the number of iterations (max_iter) or scale the data as shown in:\n",
      "    https://scikit-learn.org/stable/modules/preprocessing.html\n",
      "Please also refer to the documentation for alternative solver options:\n",
      "    https://scikit-learn.org/stable/modules/linear_model.html#logistic-regression\n",
      "  n_iter_i = _check_optimize_result(\n"
     ]
    },
    {
     "data": {
      "text/html": [
       "<style>#sk-container-id-1 {color: black;background-color: white;}#sk-container-id-1 pre{padding: 0;}#sk-container-id-1 div.sk-toggleable {background-color: white;}#sk-container-id-1 label.sk-toggleable__label {cursor: pointer;display: block;width: 100%;margin-bottom: 0;padding: 0.3em;box-sizing: border-box;text-align: center;}#sk-container-id-1 label.sk-toggleable__label-arrow:before {content: \"▸\";float: left;margin-right: 0.25em;color: #696969;}#sk-container-id-1 label.sk-toggleable__label-arrow:hover:before {color: black;}#sk-container-id-1 div.sk-estimator:hover label.sk-toggleable__label-arrow:before {color: black;}#sk-container-id-1 div.sk-toggleable__content {max-height: 0;max-width: 0;overflow: hidden;text-align: left;background-color: #f0f8ff;}#sk-container-id-1 div.sk-toggleable__content pre {margin: 0.2em;color: black;border-radius: 0.25em;background-color: #f0f8ff;}#sk-container-id-1 input.sk-toggleable__control:checked~div.sk-toggleable__content {max-height: 200px;max-width: 100%;overflow: auto;}#sk-container-id-1 input.sk-toggleable__control:checked~label.sk-toggleable__label-arrow:before {content: \"▾\";}#sk-container-id-1 div.sk-estimator input.sk-toggleable__control:checked~label.sk-toggleable__label {background-color: #d4ebff;}#sk-container-id-1 div.sk-label input.sk-toggleable__control:checked~label.sk-toggleable__label {background-color: #d4ebff;}#sk-container-id-1 input.sk-hidden--visually {border: 0;clip: rect(1px 1px 1px 1px);clip: rect(1px, 1px, 1px, 1px);height: 1px;margin: -1px;overflow: hidden;padding: 0;position: absolute;width: 1px;}#sk-container-id-1 div.sk-estimator {font-family: monospace;background-color: #f0f8ff;border: 1px dotted black;border-radius: 0.25em;box-sizing: border-box;margin-bottom: 0.5em;}#sk-container-id-1 div.sk-estimator:hover {background-color: #d4ebff;}#sk-container-id-1 div.sk-parallel-item::after {content: \"\";width: 100%;border-bottom: 1px solid gray;flex-grow: 1;}#sk-container-id-1 div.sk-label:hover label.sk-toggleable__label {background-color: #d4ebff;}#sk-container-id-1 div.sk-serial::before {content: \"\";position: absolute;border-left: 1px solid gray;box-sizing: border-box;top: 0;bottom: 0;left: 50%;z-index: 0;}#sk-container-id-1 div.sk-serial {display: flex;flex-direction: column;align-items: center;background-color: white;padding-right: 0.2em;padding-left: 0.2em;position: relative;}#sk-container-id-1 div.sk-item {position: relative;z-index: 1;}#sk-container-id-1 div.sk-parallel {display: flex;align-items: stretch;justify-content: center;background-color: white;position: relative;}#sk-container-id-1 div.sk-item::before, #sk-container-id-1 div.sk-parallel-item::before {content: \"\";position: absolute;border-left: 1px solid gray;box-sizing: border-box;top: 0;bottom: 0;left: 50%;z-index: -1;}#sk-container-id-1 div.sk-parallel-item {display: flex;flex-direction: column;z-index: 1;position: relative;background-color: white;}#sk-container-id-1 div.sk-parallel-item:first-child::after {align-self: flex-end;width: 50%;}#sk-container-id-1 div.sk-parallel-item:last-child::after {align-self: flex-start;width: 50%;}#sk-container-id-1 div.sk-parallel-item:only-child::after {width: 0;}#sk-container-id-1 div.sk-dashed-wrapped {border: 1px dashed gray;margin: 0 0.4em 0.5em 0.4em;box-sizing: border-box;padding-bottom: 0.4em;background-color: white;}#sk-container-id-1 div.sk-label label {font-family: monospace;font-weight: bold;display: inline-block;line-height: 1.2em;}#sk-container-id-1 div.sk-label-container {text-align: center;}#sk-container-id-1 div.sk-container {/* jupyter's `normalize.less` sets `[hidden] { display: none; }` but bootstrap.min.css set `[hidden] { display: none !important; }` so we also need the `!important` here to be able to override the default hidden behavior on the sphinx rendered scikit-learn.org. See: https://github.com/scikit-learn/scikit-learn/issues/21755 */display: inline-block !important;position: relative;}#sk-container-id-1 div.sk-text-repr-fallback {display: none;}</style><div id=\"sk-container-id-1\" class=\"sk-top-container\"><div class=\"sk-text-repr-fallback\"><pre>SGDClassifier(loss=&#x27;modified_huber&#x27;, random_state=42)</pre><b>In a Jupyter environment, please rerun this cell to show the HTML representation or trust the notebook. <br />On GitHub, the HTML representation is unable to render, please try loading this page with nbviewer.org.</b></div><div class=\"sk-container\" hidden><div class=\"sk-item\"><div class=\"sk-estimator sk-toggleable\"><input class=\"sk-toggleable__control sk-hidden--visually\" id=\"sk-estimator-id-1\" type=\"checkbox\" checked><label for=\"sk-estimator-id-1\" class=\"sk-toggleable__label sk-toggleable__label-arrow\">SGDClassifier</label><div class=\"sk-toggleable__content\"><pre>SGDClassifier(loss=&#x27;modified_huber&#x27;, random_state=42)</pre></div></div></div></div></div>"
      ],
      "text/plain": [
       "SGDClassifier(loss='modified_huber', random_state=42)"
      ]
     },
     "execution_count": 14,
     "metadata": {},
     "output_type": "execute_result"
    }
   ],
   "source": [
    "\n",
    "# Train Logistic Regression model\n",
    "lr = LogisticRegression(C=10,max_iter=100).fit(train_text_tfidf, train_sentiment)\n",
    "# predicted = lr.predict(val_text_tfidf)\n",
    "\n",
    "# Train Naive Bayes model\n",
    "nb_classifier = MultinomialNB(alpha=0.1)\n",
    "nb_classifier.fit(train_text_tfidf, train_sentiment)\n",
    "# y_pred_nb = nb_classifier.predict(val_text_tfidf)\n",
    "\n",
    "# Train SGD classifier\n",
    "sgd_classifier = SGDClassifier(loss='modified_huber', alpha=0.0001, max_iter=1000, random_state=42)\n",
    "sgd_classifier.fit(train_text_tfidf, train_sentiment)\n",
    "# predicted_sgd = sgd_classifier.predict(val_text_tfidf)\n",
    "\n",
    "# Calculate F1 score for each model\n",
    "# f1_lr = f1_score(val_sentiment, predicted, average='weighted')\n",
    "# f1_nb = f1_score(val_sentiment, y_pred_nb, average='weighted')\n",
    "# f1_sgd = f1_score(val_sentiment, predicted_sgd, average='weighted')\n",
    "\n",
    "# Print F1 scores\n",
    "# print(\"F1 Score for Logistic Regression:\", f1_lr)\n",
    "# print(\"F1 Score for Naive Bayes:\", f1_nb)\n",
    "# print(\"F1 Score for SGDClassifier:\", f1_sgd)\n",
    "\n"
   ]
  },
  {
   "cell_type": "code",
   "execution_count": 15,
   "id": "570c0905",
   "metadata": {
    "execution": {
     "iopub.execute_input": "2023-08-08T07:44:41.984653Z",
     "iopub.status.busy": "2023-08-08T07:44:41.984174Z",
     "iopub.status.idle": "2023-08-08T07:44:41.988903Z",
     "shell.execute_reply": "2023-08-08T07:44:41.987731Z"
    },
    "id": "Dbm9rRw7bo1i",
    "papermill": {
     "duration": 0.017134,
     "end_time": "2023-08-08T07:44:41.991157",
     "exception": false,
     "start_time": "2023-08-08T07:44:41.974023",
     "status": "completed"
    },
    "tags": []
   },
   "outputs": [],
   "source": [
    "# import matplotlib.pyplot as plt\n",
    "\n",
    "# from sklearn.metrics import ConfusionMatrixDisplay\n",
    "\n",
    "# fig, ax = plt.subplots(figsize=(10, 5))\n",
    "# ConfusionMatrixDisplay.from_predictions(val_sentiment, predicted, ax=ax)\n",
    "# ax.xaxis.set_ticklabels(['positive','negative'])\n",
    "# ax.yaxis.set_ticklabels(['positive','negative'])"
   ]
  },
  {
   "cell_type": "code",
   "execution_count": 16,
   "id": "5a38c8e5",
   "metadata": {
    "execution": {
     "iopub.execute_input": "2023-08-08T07:44:42.010180Z",
     "iopub.status.busy": "2023-08-08T07:44:42.009486Z",
     "iopub.status.idle": "2023-08-08T07:44:42.017451Z",
     "shell.execute_reply": "2023-08-08T07:44:42.016594Z"
    },
    "id": "7XwTzCrKbo1i",
    "papermill": {
     "duration": 0.020338,
     "end_time": "2023-08-08T07:44:42.019911",
     "exception": false,
     "start_time": "2023-08-08T07:44:41.999573",
     "status": "completed"
    },
    "tags": []
   },
   "outputs": [],
   "source": [
    "predicted=lr.predict(test_tfidf)"
   ]
  },
  {
   "cell_type": "code",
   "execution_count": 17,
   "id": "61d83a34",
   "metadata": {
    "execution": {
     "iopub.execute_input": "2023-08-08T07:44:42.039092Z",
     "iopub.status.busy": "2023-08-08T07:44:42.038203Z",
     "iopub.status.idle": "2023-08-08T07:44:42.044945Z",
     "shell.execute_reply": "2023-08-08T07:44:42.043411Z"
    },
    "id": "OkMBaZombo1j",
    "papermill": {
     "duration": 0.019368,
     "end_time": "2023-08-08T07:44:42.047644",
     "exception": false,
     "start_time": "2023-08-08T07:44:42.028276",
     "status": "completed"
    },
    "tags": []
   },
   "outputs": [
    {
     "name": "stdout",
     "output_type": "stream",
     "text": [
      "55315\n"
     ]
    }
   ],
   "source": [
    "print(len(predicted))  #"
   ]
  },
  {
   "cell_type": "code",
   "execution_count": 18,
   "id": "c4463fbd",
   "metadata": {
    "execution": {
     "iopub.execute_input": "2023-08-08T07:44:42.066721Z",
     "iopub.status.busy": "2023-08-08T07:44:42.066275Z",
     "iopub.status.idle": "2023-08-08T07:44:42.206958Z",
     "shell.execute_reply": "2023-08-08T07:44:42.205613Z"
    },
    "id": "RJLPXib9bo1j",
    "papermill": {
     "duration": 0.153535,
     "end_time": "2023-08-08T07:44:42.209955",
     "exception": false,
     "start_time": "2023-08-08T07:44:42.056420",
     "status": "completed"
    },
    "tags": []
   },
   "outputs": [],
   "source": [
    "submission = pd.DataFrame(columns=['id','sentiment'])\n",
    "submission['id'] = [i for i in range(len(predicted))]\n",
    "submission['sentiment'] = predicted\n",
    "submission.to_csv('submission.csv',index=False)"
   ]
  }
 ],
 "metadata": {
  "kernelspec": {
   "display_name": "Python 3",
   "language": "python",
   "name": "python3"
  },
  "language_info": {
   "codemirror_mode": {
    "name": "ipython",
    "version": 3
   },
   "file_extension": ".py",
   "mimetype": "text/x-python",
   "name": "python",
   "nbconvert_exporter": "python",
   "pygments_lexer": "ipython3",
   "version": "3.10.10"
  },
  "papermill": {
   "default_parameters": {},
   "duration": 37.784987,
   "end_time": "2023-08-08T07:44:43.344836",
   "environment_variables": {},
   "exception": null,
   "input_path": "__notebook__.ipynb",
   "output_path": "__notebook__.ipynb",
   "parameters": {},
   "start_time": "2023-08-08T07:44:05.559849",
   "version": "2.4.0"
  }
 },
 "nbformat": 4,
 "nbformat_minor": 5
}
